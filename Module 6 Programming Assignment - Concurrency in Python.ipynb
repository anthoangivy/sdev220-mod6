{
 "cells": [
  {
   "cell_type": "code",
   "execution_count": 1,
   "metadata": {},
   "outputs": [
    {
     "name": "stdout",
     "output_type": "stream",
     "text": [
      "2024-11-28\n",
      "2024-11-28\n"
     ]
    }
   ],
   "source": [
    "from datetime import date, datetime\n",
    "\n",
    "today = date.today().strftime(\"%Y-%m-%d\")\n",
    "with open(\"today.txt\", \"w\") as file:\n",
    "    file.write(today)\n",
    "\n",
    "with open(\"today.txt\", \"r\") as file:\n",
    "    today_string = file.read()\n",
    "\n",
    "today_date = datetime.strptime(today_string, \"%Y-%m-%d\").date()\n",
    "\n",
    "print(today_string)\n",
    "print(today_date)"
   ]
  },
  {
   "cell_type": "code",
   "execution_count": 3,
   "metadata": {},
   "outputs": [],
   "source": [
    "import multiprocessing as mp\n",
    "import random\n",
    "import time\n",
    "from datetime import datetime\n",
    "\n",
    "def the_time():\n",
    "    waiting = random.uniform(0, 1)\n",
    "    time.sleep(waiting)\n",
    "    print(datetime.now().strftime(\"%H:%M:%S\"))\n",
    "\n",
    "if __name__ == \"__main__\":\n",
    "    processes = []\n",
    "    for n in range(3):\n",
    "        process = mp.Process(target=the_time)\n",
    "        processes.append(process)\n",
    "        process.start()\n",
    "\n",
    "    for process in processes:\n",
    "        process.join()"
   ]
  },
  {
   "cell_type": "markdown",
   "metadata": {},
   "source": [
    "For some reason, the output of this last code block will not show up in Jupyter Notebook. Running the code in a normal Python file works as expected."
   ]
  }
 ],
 "metadata": {
  "kernelspec": {
   "display_name": "Python 3",
   "language": "python",
   "name": "python3"
  },
  "language_info": {
   "codemirror_mode": {
    "name": "ipython",
    "version": 3
   },
   "file_extension": ".py",
   "mimetype": "text/x-python",
   "name": "python",
   "nbconvert_exporter": "python",
   "pygments_lexer": "ipython3",
   "version": "3.11.4"
  }
 },
 "nbformat": 4,
 "nbformat_minor": 2
}
